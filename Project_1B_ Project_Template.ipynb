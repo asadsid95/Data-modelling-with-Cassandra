{
 "cells": [
  {
   "cell_type": "markdown",
   "metadata": {
    "editable": true
   },
   "source": [
    "# Part I. ETL Pipeline for Pre-Processing the Files"
   ]
  },
  {
   "cell_type": "markdown",
   "metadata": {
    "editable": true
   },
   "source": [
    "## PLEASE RUN THE FOLLOWING CODE FOR PRE-PROCESSING THE FILES"
   ]
  },
  {
   "cell_type": "markdown",
   "metadata": {
    "editable": true
   },
   "source": [
    "#### Import Python packages "
   ]
  },
  {
   "cell_type": "code",
   "execution_count": 39,
   "metadata": {
    "editable": true
   },
   "outputs": [],
   "source": [
    "# Import Python packages \n",
    "import pandas as pd\n",
    "import cassandra\n",
    "import re\n",
    "import os\n",
    "import glob\n",
    "import numpy as np\n",
    "import json\n",
    "import csv"
   ]
  },
  {
   "cell_type": "markdown",
   "metadata": {
    "editable": true
   },
   "source": [
    "#### Creating list of filepaths to process original event csv data files"
   ]
  },
  {
   "cell_type": "code",
   "execution_count": 40,
   "metadata": {
    "editable": true
   },
   "outputs": [
    {
     "name": "stdout",
     "output_type": "stream",
     "text": [
      "/home/workspace\n"
     ]
    }
   ],
   "source": [
    "# This checks current working directory\n",
    "print(os.getcwd())\n",
    "\n",
    "# This retrieves current folder and subfolder event data\n",
    "filepath = os.getcwd() + '/event_data'\n",
    "\n",
    "# This creates a list of files and collect each filepath\n",
    "for root, dirs, files in os.walk(filepath):\n",
    "# join the file path and roots with the subdirectories using glob\n",
    "    file_path_list = glob.glob(os.path.join(root,'*'))\n",
    "    #print(file_path_list)"
   ]
  },
  {
   "cell_type": "markdown",
   "metadata": {
    "editable": true
   },
   "source": [
    "#### Processing the files to create the data file csv that will be used for Apache Casssandra tables"
   ]
  },
  {
   "cell_type": "code",
   "execution_count": 41,
   "metadata": {
    "editable": true
   },
   "outputs": [
    {
     "name": "stdout",
     "output_type": "stream",
     "text": [
      "8056\n"
     ]
    }
   ],
   "source": [
    "full_data_rows_list = [] \n",
    "    \n",
    "# This for-loop reads every filepath in the file path list \n",
    "for f in file_path_list:\n",
    "# This allows reading each csv file  \n",
    "    with open(f, 'r', encoding = 'utf8', newline='') as csvfile: \n",
    "        # creating a csv reader object \n",
    "        csvreader = csv.reader(csvfile) \n",
    "        next(csvreader)\n",
    "        \n",
    " # For each csv file being read, this for-loops appends full_data_rows_list-list with the content of each file        \n",
    "        for line in csvreader:\n",
    "            #print(line)\n",
    "            full_data_rows_list.append(line) \n",
    "            \n",
    "# uncomment the code below if you would like to get total number of rows \n",
    "print(len(full_data_rows_list))\n",
    "#uncomment the code below if you would like to check to see what the list of event data rows will look like\n",
    "#print(full_data_rows_list)\n",
    "\n",
    "# creating a smaller event data csv file called event_datafile_full csv that will be used to insert data into the \\\n",
    "# Apache Cassandra tables\n",
    "csv.register_dialect('myDialect', quoting=csv.QUOTE_ALL, skipinitialspace=True)\n",
    "\n",
    "with open('event_datafile_new.csv', 'w', encoding = 'utf8', newline='') as f:\n",
    "    writer = csv.writer(f, dialect='myDialect')\n",
    "    writer.writerow(['artist','firstName','gender','itemInSession','lastName','length',\\\n",
    "                'level','location','sessionId','song','userId'])\n",
    "    for row in full_data_rows_list:\n",
    "        # This skips an entire row if value of first column is an empty-string\n",
    "        if (row[0] == ''):\n",
    "            continue\n",
    "        writer.writerow((row[0], row[2], row[3], row[4], row[5], row[6], row[7], row[8], row[12], row[13], row[16]))\n"
   ]
  },
  {
   "cell_type": "code",
   "execution_count": 42,
   "metadata": {
    "editable": true
   },
   "outputs": [
    {
     "name": "stdout",
     "output_type": "stream",
     "text": [
      "6821\n"
     ]
    }
   ],
   "source": [
    "# check the number of rows in your csv file\n",
    "with open('event_datafile_new.csv', 'r', encoding = 'utf8') as f:\n",
    "    print(sum(1 for line in f))"
   ]
  },
  {
   "cell_type": "markdown",
   "metadata": {
    "editable": true
   },
   "source": [
    "# Part II. Complete the Apache Cassandra coding portion. \n",
    "\n",
    "## Now we are ready to work with the CSV file titled <font color=red>event_datafile_new.csv</font>, located within the Workspace directory.  The event_datafile_new.csv contains the following columns: \n",
    "- artist \n",
    "- firstName of user\n",
    "- gender of user\n",
    "- item number in session\n",
    "- last name of user\n",
    "- length of the song\n",
    "- level (paid or free song)\n",
    "- location of the user\n",
    "- sessionId\n",
    "- song title\n",
    "- userId\n",
    "\n",
    "The image below is a screenshot of what the denormalized data should appear like in the <font color=red>**event_datafile_new.csv**</font> after the code above is run:<br>\n",
    "\n",
    "<img src=\"images/image_event_datafile_new.jpg\">"
   ]
  },
  {
   "cell_type": "markdown",
   "metadata": {
    "editable": true
   },
   "source": [
    "## Begin writing Apache Cassandra code in the cells below"
   ]
  },
  {
   "cell_type": "markdown",
   "metadata": {
    "editable": true
   },
   "source": [
    "#### Creating a Cluster"
   ]
  },
  {
   "cell_type": "code",
   "execution_count": 43,
   "metadata": {
    "editable": true
   },
   "outputs": [],
   "source": [
    "# This makes a connection to a Cassandra instance your local machine \n",
    "# (127.0.0.1)\n",
    "\n",
    "from cassandra.cluster import Cluster\n",
    "cluster = Cluster(['127.0.0.1'])\n",
    "\n",
    "# We create a session to establish connection and begin executing queries\n",
    "session = cluster.connect()"
   ]
  },
  {
   "cell_type": "markdown",
   "metadata": {
    "editable": true
   },
   "source": [
    "#### Create Keyspace"
   ]
  },
  {
   "cell_type": "code",
   "execution_count": 44,
   "metadata": {
    "editable": true
   },
   "outputs": [],
   "source": [
    "# Create a Keyspace \n",
    "keyspace = '''CREATE KEYSPACE IF NOT EXISTS project2 \n",
    "                WITH REPLICATION = {'class': 'SimpleStrategy', 'replication_factor': 1}'''"
   ]
  },
  {
   "cell_type": "markdown",
   "metadata": {
    "editable": true
   },
   "source": [
    "#### Set Keyspace"
   ]
  },
  {
   "cell_type": "code",
   "execution_count": 45,
   "metadata": {
    "editable": true
   },
   "outputs": [],
   "source": [
    "# Set KEYSPACE to the keyspace specified above\n",
    "try:\n",
    "    session.execute(keyspace)\n",
    "except Exception as e:\n",
    "    print(e)\n",
    "\n",
    "try:\n",
    "    session.set_keyspace('project2')\n",
    "except Error as e:\n",
    "    print(e)"
   ]
  },
  {
   "cell_type": "markdown",
   "metadata": {
    "editable": true
   },
   "source": [
    "### Now we need to create tables to run the following queries. Remember, with Apache Cassandra we model the database tables on the queries we want to run."
   ]
  },
  {
   "cell_type": "markdown",
   "metadata": {
    "editable": true
   },
   "source": [
    "## Create queries to ask the following three questions of the data\n",
    "\n",
    "### 1. Give me the artist, song title and song's length in the music app history that was heard during  sessionId = 338, and itemInSession  = 4\n",
    "\n",
    "\n",
    "### 2. Give me only the following: name of artist, song (sorted by itemInSession) and user (first and last name) for userid = 10, sessionid = 182\n",
    "    \n",
    "\n",
    "### 3. Give me every user name (first and last) in my music app history who listened to the song 'All Hands Against His Own'\n",
    "\n",
    "\n"
   ]
  },
  {
   "cell_type": "code",
   "execution_count": 46,
   "metadata": {
    "editable": true
   },
   "outputs": [
    {
     "name": "stdout",
     "output_type": "stream",
     "text": [
      "<class 'cassandra.io.asyncorereactor.Row'>\n",
      "Faithless Music Matters (Mark Knight Dub) 495.30731201171875\n"
     ]
    }
   ],
   "source": [
    "## Query 1:  This query provides the artist, song title and song's length in the music app history that was heard during \\\n",
    "## specifc sessionId (= 338) and itemInSession (= 4)\n",
    "\n",
    "## Table name: session_info\n",
    "## Column 1: artist_name\n",
    "## Column 2: song_title\n",
    "## Column 3: song_length\n",
    "## PRIMARY Composite KEY: sessionId, itemInSession - In order to present specific data (according to sessionId and itemInSession)  \n",
    "\n",
    "session_info = '''CREATE TABLE IF NOT EXISTS sessioninfo(\n",
    "                  artist text,\n",
    "                  song text,\n",
    "                  song_length float,\n",
    "                  session_Id int,\n",
    "                  item_InSession int,\n",
    "                  PRIMARY KEY ((session_Id, item_InSession))\n",
    "                  )'''\n",
    "\n",
    "# Here, we will execute the CREATE TABLE query using Cassandra's session  \n",
    "try:\n",
    "    session.execute(session_info)\n",
    "except Error as e:\n",
    "    print(e)\n",
    "    \n",
    "# Here, we read the condensed datafile created earlier (See codeblock # 3) row by row, and insert into specific attribute/column's values into table 'session_info' \n",
    "file = 'event_datafile_new.csv'\n",
    "\n",
    "with open(file, encoding = 'utf8') as f:\n",
    "    csvreader = csv.reader(f)\n",
    "    next(csvreader) # skip header\n",
    "    \n",
    "    ## Assign placeholder in the INSERT statements & assign datafile's row-specifc data to the table's column by using Cassandra's session.execute()    \n",
    "    ## Remember, indexing of columns from csv files starts from 0\n",
    "    for line in csvreader:  \n",
    "        query = \"INSERT INTO sessioninfo(artist, song, song_length, session_Id, item_InSession) VALUES (%s,%s,%s,%s,%s)\"\n",
    "        session.execute(query, (line[0], line[9], float(line[5]), int(line[8]), int(line[3])))\n",
    "        \n",
    "## Here, we verify data from datafile has been added to table by using SELECT statement\n",
    "selectfirst = '''SELECT artist, song, song_length FROM sessioninfo WHERE session_Id=338 AND item_InSession=4 '''\n",
    "try:\n",
    "    rows = session.execute(selectfirst)\n",
    "except Error as e:\n",
    "    print(e)\n",
    "\n",
    "# Here we will print values from client's query-specific attributes \n",
    "for row in rows:\n",
    "    print(type(row))\n",
    "    print(row.artist, row.song, row.song_length)"
   ]
  },
  {
   "cell_type": "code",
   "execution_count": 47,
   "metadata": {
    "editable": true
   },
   "outputs": [
    {
     "name": "stdout",
     "output_type": "stream",
     "text": [
      "Down To The Bone Keep On Keepin' On Sylvie Cruz\n",
      "Three Drives Greece 2000 Sylvie Cruz\n",
      "Sebastien Tellier Kilometer Sylvie Cruz\n",
      "Lonnie Gordon Catch You Baby (Steve Pitron & Max Sanna Radio Edit) Sylvie Cruz\n"
     ]
    }
   ],
   "source": [
    "## Query 2: This query provides the artist, song title, and user's first and last name in the music app history \\\n",
    "## that was heard by specifc userId  (= 10) and of specific sessionId (= 182)\n",
    "\n",
    "# Table name: user_session_table \n",
    "# Column 1: artist\n",
    "# Column 2: song\n",
    "# Column 3: first name\n",
    "# Column 4: last name\n",
    "# PRIMARY COMPOSITE KEY: (userid, sessionId)\n",
    "# Clustering Column: itemInSession\n",
    "\n",
    "user_session_table = '''CREATE TABLE IF NOT EXISTS user_session_table( \n",
    "                        artist text, \n",
    "                        song text, \n",
    "                        first_name text, \n",
    "                        last_name text, \n",
    "                        userId int, sessionId \n",
    "                        int, \n",
    "                        itemInSession int, \n",
    "                        PRIMARY KEY ((userId, sessionId), itemInSession)\n",
    "                        )'''\n",
    "                    \n",
    "try:\n",
    "    session.execute(user_session_table)\n",
    "except Error as e:\n",
    "    print(e)\n",
    "                  \n",
    "file = 'event_datafile_new.csv'\n",
    "\n",
    "with open(file, encoding = 'utf8') as f:\n",
    "    csvreader = csv.reader(f)\n",
    "    next(csvreader) # skip header\n",
    "   \n",
    "    for line in csvreader:\n",
    "        query = \"INSERT INTO user_session_table(artist, song, first_name, last_name, userId, sessionId, itemInSession) VALUES (%s,%s,%s,%s,%s,%s,%s)\"\n",
    "        session.execute(query, (line[0], line[9], line[1], line[4], int(line[10]), int(line[8]), int(line[3])))\n",
    "        \n",
    "## Here, we verify data from datafile has been added to table by using SELECT statement        \n",
    "selectsecond = '''SELECT artist, song, first_name, last_name FROM user_session_table WHERE userId=10 AND sessionId=182 '''\n",
    "try:\n",
    "    rows = session.execute(selectsecond)\n",
    "except Exception as e:\n",
    "    print(e)\n",
    "    \n",
    "for row in rows:\n",
    "    print(row.artist, row.song, row.first_name, row.last_name)"
   ]
  },
  {
   "cell_type": "code",
   "execution_count": 48,
   "metadata": {
    "editable": true
   },
   "outputs": [
    {
     "name": "stdout",
     "output_type": "stream",
     "text": [
      "Jacqueline Lynch\n",
      "Tegan Levine\n",
      "Sara Johnson\n"
     ]
    }
   ],
   "source": [
    "## Query 3: This query provides the user's first and last name in the music app history \\\n",
    "## who listened to song 'All Hands Against His Own' \n",
    "\n",
    "## Table name: name_table\n",
    "# Column 1: first name\n",
    "# Column 2: last name\n",
    "# PRIMARY KEY: userid\n",
    "# Clustering Column: sessionId\n",
    "\n",
    "name_table = '''CREATE TABLE IF NOT EXISTS name_table\n",
    "                (first_name text, last_name text, song text, userid int, PRIMARY KEY(song,userid))'''\n",
    "try:\n",
    "    session.execute(name_table)\n",
    "except Error as e:\n",
    "    print(e)\n",
    "\n",
    "with open(file, encoding='utf8') as f:\n",
    "    csvreader = csv.reader(f)\n",
    "    next(csvreader)\n",
    "    for line in csvreader:\n",
    "        query = '''INSERT INTO name_table (first_name, last_name, song, userid) VALUES (%s,%s,%s,%s)'''\n",
    "        session.execute(query, (line[1], line[4], line[9], int(line[10])))\n",
    "        \n",
    "selectthird = '''SELECT first_name, last_name FROM name_table WHERE song='All Hands Against His Own' '''\n",
    "\n",
    "try:\n",
    "    rows = session.execute(selectthird)\n",
    "except Error as e:\n",
    "    print(e)\n",
    "    \n",
    "for row in rows:\n",
    "    print(row.first_name, row.last_name)\n",
    "    \n",
    "#session.execute('''DROP TABLE name_table''')"
   ]
  },
  {
   "cell_type": "markdown",
   "metadata": {
    "editable": true
   },
   "source": [
    "### Drop the tables before closing out the sessions"
   ]
  },
  {
   "cell_type": "code",
   "execution_count": 49,
   "metadata": {
    "editable": true
   },
   "outputs": [
    {
     "data": {
      "text/plain": [
       "<cassandra.cluster.ResultSet at 0x7f6aca71dc88>"
      ]
     },
     "execution_count": 49,
     "metadata": {},
     "output_type": "execute_result"
    }
   ],
   "source": [
    "## TO-DO: Drop the table before closing out the sessions\n",
    "\n",
    "session.execute('''DROP TABLE sessioninfo''')\n",
    "session.execute('''DROP TABLE user_session_table''')\n",
    "session.execute('''DROP TABLE name_table''')\n",
    "\n",
    "# session.execute('''SELECT first_name, last_name FROM name_table WHERE song='All Hands Against His Own' ''')"
   ]
  },
  {
   "cell_type": "markdown",
   "metadata": {
    "editable": true
   },
   "source": [
    "### Close the session and cluster connection¶"
   ]
  },
  {
   "cell_type": "code",
   "execution_count": 50,
   "metadata": {
    "editable": true
   },
   "outputs": [],
   "source": [
    "session.shutdown()\n",
    "cluster.shutdown()"
   ]
  }
 ],
 "metadata": {
  "kernelspec": {
   "display_name": "Python 3",
   "language": "python",
   "name": "python3"
  },
  "language_info": {
   "codemirror_mode": {
    "name": "ipython",
    "version": 3
   },
   "file_extension": ".py",
   "mimetype": "text/x-python",
   "name": "python",
   "nbconvert_exporter": "python",
   "pygments_lexer": "ipython3",
   "version": "3.6.3"
  }
 },
 "nbformat": 4,
 "nbformat_minor": 4
}
